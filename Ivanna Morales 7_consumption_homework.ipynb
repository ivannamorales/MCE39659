{
 "cells": [
  {
   "cell_type": "markdown",
   "metadata": {},
   "source": [
    "# Homework"
   ]
  },
  {
   "cell_type": "markdown",
   "metadata": {},
   "source": [
    "# Respuestas:\n",
    "1. Program the solution of unconstraint minimization for $T=80$. How many variables we need to solve the problem?"
   ]
  },
  {
   "cell_type": "code",
   "execution_count": 1,
   "metadata": {},
   "outputs": [],
   "source": [
    "#import Pkg; Pkg.add(\"Optim\")\n",
    "using Optim, Parameters"
   ]
  },
  {
   "cell_type": "markdown",
   "metadata": {},
   "source": [
    "Para realizar la tarea, se utilizarán los valores y el modelo dado en la clase de consumo-ahorro."
   ]
  },
  {
   "cell_type": "code",
   "execution_count": 2,
   "metadata": {},
   "outputs": [
    {
     "data": {
      "text/plain": [
       "params (generic function with 1 method)"
      ]
     },
     "execution_count": 2,
     "metadata": {},
     "output_type": "execute_result"
    }
   ],
   "source": [
    "# Función de parámetros para T=80\n",
    "function params(; T::Int=80, \n",
    "    β=0.96,           # Factor de descuento\n",
    "    R=1.04,           # Tasa de retorno de los activos R = (1 + r), con r = 0.04\n",
    "    ā=150)            # activos iniciales\n",
    "    y = fill(100, T)  # Generamos un vector de ingresos com T=80, donde se asume que y=100 para todos los períodos\n",
    "    return (β=β, R=R, ā=ā, y=y)\n",
    "end"
   ]
  },
  {
   "cell_type": "code",
   "execution_count": 3,
   "metadata": {},
   "outputs": [
    {
     "data": {
      "text/plain": [
       "(β = 0.96, R = 1.04, ā = 150, y = [100, 100, 100, 100, 100, 100, 100, 100, 100, 100  …  100, 100, 100, 100, 100, 100, 100, 100, 100, 100])"
      ]
     },
     "execution_count": 3,
     "metadata": {},
     "output_type": "execute_result"
    }
   ],
   "source": [
    "ck = params()"
   ]
  },
  {
   "cell_type": "code",
   "execution_count": 14,
   "metadata": {},
   "outputs": [
    {
     "name": "stdout",
     "output_type": "stream",
     "text": [
      "Optimal a values: [147.90600179970411, 145.81415551444655, 143.72497707400169, 141.63968628871825, 139.55693486737266, 137.4766815050033, 135.39961412165223, 133.3255342811221, 131.25426264586216, 129.18638083202902, 127.12100930616083, 125.05911531836881, 123.00091660889639, 120.94583103400448, 118.89486034999395, 116.84652869609309, 114.80234801749594, 112.76181473674828, 110.72552537447653, 108.69158943651453, 106.6628541235572, 104.63605519981732, 102.61439235808015, 100.59733183210835, 98.5837067011035, 96.57529065473511, 94.57159546960897, 92.57173512385118, 90.57566249922058, 88.58525482800623, 86.59882037220709, 84.61836350080124, 82.64303339894462, 80.67330445341365, 78.70892823237823, 76.75086669837037, 74.79898187065011, 72.85181982321697, 70.91084889096142, 68.97592845374426, 67.04734422473486, 65.12411468094146, 63.209152144385456, 61.30284357732924, 59.401763183402586, 57.508092550488975, 55.62080166342765, 53.74132792678867, 51.87209544463187, 50.01233730316156, 48.16021628185928, 46.31990006462081, 44.48816883160346, 42.66602127449805, 40.85402882362371, 39.04685705986113, 37.253403826241104, 35.46901909612843, 33.698739506087094, 31.940345768980112, 30.195544448085645, 28.460727103831182, 26.740098988809052, 25.033900306291045, 23.33985451079602, 21.661650453416506, 19.998058606674434, 18.34869036809955, 16.716788916446795, 15.101209348995337, 13.501412259461077, 11.92064297533357, 10.357887852876964, 8.815049977647234, 7.291038044502671, 5.785931823919011, 4.301328179297924, 2.841454353836402, 1.407788383206597]\n",
      "Optimal c values: [108.09399820029589, 108.00808635724573, 107.92174466102273, 107.8342898682435, 107.74833887289432, 107.66253075706425, 107.57613464355123, 107.49006440539625, 107.40429300650482, 107.31805231966763, 107.23282675914936, 107.14673436003847, 107.06056332220719, 106.97512223924777, 106.88880392537074, 106.80412606790063, 106.71804182644087, 106.63262720144749, 106.54676195174169, 106.46295695294108, 106.3763988904179, 106.29331308868217, 106.20710504972985, 106.12163622029502, 106.03751840428919, 105.95176431441251, 105.86670681131555, 105.78272416454216, 105.69894202958466, 105.61343417118319, 105.52984464891941, 105.44440968629415, 105.36006464188867, 105.27545028148877, 105.19130839917197, 105.10641866330297, 105.02191949565507, 104.93912132225913, 104.85504372518425, 104.77135439285563, 104.68762136715917, 104.60512331278281, 104.51992712379368, 104.43467465283163, 104.35319413701984, 104.26974116024971, 104.18761458908091, 104.10430580317609, 104.01888559922835, 103.93464195925557, 103.85261451342876, 103.76672486851282, 103.68452723560218, 103.60167431036955, 103.51863330185427, 103.44133291670752, 103.35532751601446, 103.27452088316232, 103.18904035388647, 103.10634331735048, 103.02241515165368, 102.9426391221779, 102.85905719917537, 102.77580264207037, 102.69540180774666, 102.61179823781134, 102.53005786487873, 102.44929058284185, 102.36584906637674, 102.28425112410933, 102.20384546349408, 102.12082577450596, 102.03958084146996, 101.95715338934481, 101.87661393225045, 101.79674774236376, 101.71604091757784, 101.63192695263345, 101.54732414478326, 101.46409991853486]\n"
     ]
    }
   ],
   "source": [
    "#Función de utilidad, asumiendo utilidad CRRA\n",
    "function u(c; γ = 2.0)\n",
    "    return c^(1 - γ) / (1 - γ)\n",
    "end\n",
    "\n",
    "# Función objetivo\n",
    "function objective(ck, x)\n",
    "    @unpack β, R, ā, y = ck  \n",
    "    T = length(y)\n",
    "    a = [0.0; x]  # a[1] = 0 y a[2] = x[1], a[3] = x[2], ..., a[T] = x[T-1]\n",
    "    c = Vector{Float64}(undef, T)\n",
    "    \n",
    "    # definimos el comsumo para T=1 y despues para el resto de los tiempos\n",
    "    c[1] = R * ā + y[1] - a[2]\n",
    "    for t in 2:T\n",
    "        if t < T\n",
    "            c[t] = R * a[t] + y[t] - a[t + 1]\n",
    "        else\n",
    "            c[t] = R * a[t] + y[t]\n",
    "        end\n",
    "    end\n",
    "    \n",
    "    # Se calcula la suma de las utilidades\n",
    "    utility_sum = 0.0\n",
    "    for t in 1:T\n",
    "        utility_sum += β^(t - 1) * u(c[t])\n",
    "    end\n",
    "    \n",
    "    # Ahora devolvemos el valor negativo porque Optim minimiza por defecto\n",
    "    return -utility_sum\n",
    "end\n",
    "\n",
    "# Se establece un punto inicial para la optimización, donde\n",
    "T = 80\n",
    "initial_guess = fill(150.0, T-1)  # Suposición inicial para a2, a3, ..., a80\n",
    "ck = params()\n",
    "\n",
    "# Optimizando\n",
    "result = optimize(x -> objective(ck, x), initial_guess, BFGS())\n",
    "\n",
    "# Se generan los resultados en optimal_a y optimal_c\n",
    "optimal_a = Optim.minimizer(result)\n",
    "optimal_c = Vector{Float64}(undef, T)\n",
    "\n",
    "@unpack β, R, ā, y = ck\n",
    "\n",
    "# se calculan los consumos óptimos\n",
    "optimal_c[1] = R * ā + y[1] - optimal_a[1]\n",
    "for t in 2:T\n",
    "    if t < T\n",
    "        optimal_c[t] = R * optimal_a[t-1] + y[t] - optimal_a[t]\n",
    "    else\n",
    "        optimal_c[t] = R * optimal_a[t-1] + y[t]\n",
    "    end\n",
    "end\n",
    "\n",
    "# Se guardan los resultados óptimos\n",
    "println(\"Optimal a values: \", optimal_a)\n",
    "println(\"Optimal c values: \", optimal_c)\n"
   ]
  },
  {
   "cell_type": "markdown",
   "metadata": {},
   "source": [
    "Para resolver el problema se necesitan los valores de las variables $a$ y $c$ para un $T=80$, sabiendo que el activo $a$ para el $T=1$ esta dado, y y que en el $T=81$ el activo $a81=0$, tenemos que necesitamos $79 activos para los periodos desde $T=2 hasta T=80$. Ahora para el consumo $c$, se necesitan un total de 80, uno por cada tiempo para poder encontrar la solución cuando realizamos minimización sin restricción. "
   ]
  },
  {
   "cell_type": "markdown",
   "metadata": {},
   "source": [
    "2. Program the solution of constraint minimization for $T=80$. How many equations, variables and constraint we need?"
   ]
  },
  {
   "cell_type": "code",
   "execution_count": 6,
   "metadata": {},
   "outputs": [
    {
     "name": "stderr",
     "output_type": "stream",
     "text": [
      "\u001b[32m\u001b[1m   Resolving\u001b[22m\u001b[39m package versions...\n",
      "\u001b[32m\u001b[1m  No Changes\u001b[22m\u001b[39m to `C:\\Users\\Ivanna Morales\\.julia\\environments\\v1.10\\Project.toml`\n",
      "\u001b[32m\u001b[1m  No Changes\u001b[22m\u001b[39m to `C:\\Users\\Ivanna Morales\\.julia\\environments\\v1.10\\Manifest.toml`\n"
     ]
    }
   ],
   "source": [
    "#import Pkg; Pkg.add(\"JuMP\")\n",
    "#import Pkg; Pkg.add(\"Ipopt\")"
   ]
  },
  {
   "cell_type": "code",
   "execution_count": 8,
   "metadata": {},
   "outputs": [
    {
     "name": "stderr",
     "output_type": "stream",
     "text": [
      "\u001b[33m\u001b[1m┌ \u001b[22m\u001b[39m\u001b[33m\u001b[1mWarning: \u001b[22m\u001b[39mFunction u automatically registered with 1 arguments.\n",
      "\u001b[33m\u001b[1m│ \u001b[22m\u001b[39m\n",
      "\u001b[33m\u001b[1m│ \u001b[22m\u001b[39mCalling the function with a different number of arguments will result in an\n",
      "\u001b[33m\u001b[1m│ \u001b[22m\u001b[39merror.\n",
      "\u001b[33m\u001b[1m│ \u001b[22m\u001b[39m\n",
      "\u001b[33m\u001b[1m│ \u001b[22m\u001b[39mWhile you can safely ignore this warning, we recommend that you manually\n",
      "\u001b[33m\u001b[1m│ \u001b[22m\u001b[39mregister the function as follows:\n",
      "\u001b[33m\u001b[1m│ \u001b[22m\u001b[39m```Julia\n",
      "\u001b[33m\u001b[1m│ \u001b[22m\u001b[39mmodel = Model()\n",
      "\u001b[33m\u001b[1m│ \u001b[22m\u001b[39mregister(model, :u, 1, u; autodiff = true)\n",
      "\u001b[33m\u001b[1m│ \u001b[22m\u001b[39m```\n",
      "\u001b[33m\u001b[1m└ \u001b[22m\u001b[39m\u001b[90m@ MathOptInterface.Nonlinear C:\\Users\\Ivanna Morales\\.julia\\packages\\MathOptInterface\\aJZbq\\src\\Nonlinear\\operators.jl:430\u001b[39m\n"
     ]
    },
    {
     "name": "stdout",
     "output_type": "stream",
     "text": [
      "This is Ipopt version 3.14.14, running with linear solver MUMPS 5.6.2.\n",
      "\n",
      "Number of nonzeros in equality constraint Jacobian...:      240\n",
      "Number of nonzeros in inequality constraint Jacobian.:        0\n",
      "Number of nonzeros in Lagrangian Hessian.............:       80\n",
      "\n",
      "Total number of variables............................:      161\n",
      "                     variables with only lower bounds:       80\n",
      "                variables with lower and upper bounds:        0\n",
      "                     variables with only upper bounds:        0\n",
      "Total number of equality constraints.................:       81\n",
      "Total number of inequality constraints...............:        0\n",
      "        inequality constraints with only lower bounds:        0\n",
      "   inequality constraints with lower and upper bounds:        0\n",
      "        inequality constraints with only upper bounds:        0\n",
      "\n",
      "iter    objective    inf_pr   inf_du lg(mu)  ||d||  lg(rg) alpha_du alpha_pr  ls\n",
      "   0 -2.4045826e+03 1.50e+02 3.99e-02  -1.0 0.00e+00    -  0.00e+00 0.00e+00   0\n",
      "   1 -3.7485799e-01 2.27e-13 2.00e+04  -1.0 1.47e+03  -4.0 4.96e-05 1.00e+00f  1\n",
      "   2 -3.7388935e-01 4.55e-13 8.72e-03  -1.0 1.61e+00  -4.5 9.91e-01 1.00e+00f  1\n",
      "   3 -3.7022786e-01 2.27e-13 6.83e-05  -1.7 6.14e+00  -5.0 1.00e+00 1.00e+00f  1\n",
      "   4 -3.7013468e-01 2.27e-13 6.32e-07  -3.8 1.71e-01  -5.4 1.00e+00 1.00e+00h  1\n",
      "   5 -3.7013034e-01 2.27e-13 1.09e-08  -5.7 8.79e-03  -5.9 1.00e+00 1.00e+00h  1\n",
      "   6 -3.7013033e-01 2.27e-13 1.53e-11  -8.6 3.72e-05  -6.4 1.00e+00 1.00e+00h  1\n",
      "   7 -3.7013033e-01 4.55e-13 2.14e-13 -12.9 1.56e-06  -6.9 1.00e+00 1.00e+00h  1\n",
      "\n",
      "Number of Iterations....: 7\n",
      "\n",
      "                                   (scaled)                 (unscaled)\n",
      "Objective...............:   3.7013032540777525e-09   -3.7013032540777524e-01\n",
      "Dual infeasibility......:   2.1390590123600766e-13    2.1390590123600766e-05\n",
      "Constraint violation....:   4.5474735088646412e-13    4.5474735088646412e-13\n",
      "Variable bound violation:   0.0000000000000000e+00    0.0000000000000000e+00\n",
      "Complementarity.........:   1.2544410710183959e-13    1.2544410710183958e-05\n",
      "Overall NLP error.......:   4.5474735088646412e-13    2.1390590123600766e-05\n",
      "\n",
      "\n",
      "Number of objective function evaluations             = 8\n",
      "Number of objective gradient evaluations             = 8\n",
      "Number of equality constraint evaluations            = 8\n",
      "Number of inequality constraint evaluations          = 0\n",
      "Number of equality constraint Jacobian evaluations   = 1\n",
      "Number of inequality constraint Jacobian evaluations = 0\n",
      "Number of Lagrangian Hessian evaluations             = 7\n",
      "Total seconds in IPOPT                               = 0.254\n",
      "\n",
      "EXIT: Optimal Solution Found.\n",
      "Solución óptima:\n",
      "c[1] = 198.49566610488316\n",
      "c[2] = 191.65431471750642\n",
      "c[3] = 184.47142326936438\n",
      "c[4] = 177.45468599704824\n",
      "c[5] = 170.66922578204748\n",
      "c[6] = 164.12874578099232\n",
      "c[7] = 157.83253269759214\n",
      "c[8] = 151.7749118865433\n",
      "c[9] = 145.9484194783361\n",
      "c[10] = 140.34500637591793\n",
      "c[11] = 134.9565297098321\n",
      "c[12] = 129.77496269247595\n",
      "c[13] = 124.79248588052253\n",
      "c[14] = 120.00152584062697\n",
      "c[15] = 115.39476949386209\n",
      "c[16] = 110.96516678459447\n",
      "c[17] = 106.70592762161007\n",
      "c[18] = 102.61051597273766\n",
      "c[19] = 98.67264255769304\n",
      "c[20] = 94.88625691366674\n",
      "c[21] = 91.24553922736361\n",
      "c[22] = 87.74489215837245\n",
      "c[23] = 84.37893278545668\n",
      "c[24] = 81.14248473882354\n",
      "c[25] = 78.03057055820933\n",
      "c[26] = 75.03840430246004\n",
      "c[27] = 72.1613844128777\n",
      "c[28] = 69.39508684053311\n",
      "c[29] = 66.73525843089737\n",
      "c[30] = 64.17781056653362\n",
      "c[31] = 61.71881305884196\n",
      "c[32] = 59.354488285442365\n",
      "c[33] = 57.08120556456093\n",
      "c[34] = 54.89547575786365\n",
      "c[35] = 52.7939460968216\n",
      "c[36] = 50.77339522061\n",
      "c[37] = 48.830728421067946\n",
      "c[38] = 46.962973083036516\n",
      "c[39] = 45.16727431382805\n",
      "c[40] = 43.44089075309236\n",
      "c[41] = 41.78119055313008\n",
      "c[42] = 40.18564752329316\n",
      "c[43] = 38.6518374285792\n",
      "c[44] = 37.17743443455881\n",
      "c[45] = 35.76020768991689\n",
      "c[46] = 34.3980180385228\n",
      "c[47] = 33.088814852684166\n",
      "c[48] = 31.83063297967777\n",
      "c[49] = 30.621589793439288\n",
      "c[50] = 29.459882344791485\n",
      "c[51] = 28.34378460248428\n",
      "c[52] = 27.2716447793615\n",
      "c[53] = 26.241882738260124\n",
      "c[54] = 25.252987473039436\n",
      "c[55] = 24.30351466089309\n",
      "c[56] = 23.39208428429332\n",
      "c[57] = 22.517378320698167\n",
      "c[58] = 21.67813850040682\n",
      "c[59] = 20.87316413377661\n",
      "c[60] = 20.101310010692323\n",
      "c[61] = 19.3614843759377\n",
      "c[62] = 18.652646986454045\n",
      "c[63] = 17.973807257760626\n",
      "c[64] = 17.324022509391664\n",
      "c[65] = 16.702396321913085\n",
      "c[66] = 16.108077022881915\n",
      "c[67] = 15.540256325481693\n",
      "c[68] = 14.998168154576241\n",
      "c[69] = 14.481087712496059\n",
      "c[70] = 13.98833086834589\n",
      "c[71] = 13.519254009376418\n",
      "c[72] = 13.073254594119877\n",
      "c[73] = 12.649772835844958\n",
      "c[74] = 12.2482953053512\n",
      "c[75] = 11.86836194429873\n",
      "c[76] = 11.509579377794704\n",
      "c[77] = 11.171646248768244\n",
      "c[78] = 10.854402198969163\n",
      "c[79] = 10.557924740473785\n",
      "c[80] = 10.28272615915065\n"
     ]
    }
   ],
   "source": [
    "using JuMP, Ipopt\n",
    "\n",
    "#Se define función u y su retorno\n",
    "function u(c; γ=2.0)\n",
    "    return c^(1 - γ) / (1 - γ)\n",
    "end\n",
    "\n",
    "@unpack β, R, ā, y = ck\n",
    "\n",
    "# Modelo de optimización\n",
    "model = Model(Ipopt.Optimizer)\n",
    "#Se define que el consumo no debe ser negativo en cada uno de los periodos\n",
    "@variable(model, c[1:80] >= 0)  \n",
    "@variable(model, a[1:81])  # Activos en cada periodo (a[1] corresponde a ā)\n",
    "\n",
    "# Función objetivo\n",
    "@NLobjective(model, Max, sum(β^(t-1) * u(c[t]) for t in 1:80))\n",
    "\n",
    "# Se definen las restricciones\n",
    "@constraint(model, a[1] == ā)\n",
    "for t in 1:80\n",
    "    if t < 80\n",
    "        @constraint(model, a[t+1] == R * a[t] + y[t] - c[t])\n",
    "    else\n",
    "        @constraint(model, 0 == R * a[t] + y[t] - c[t])  # Valor terminal de activos\n",
    "    end\n",
    "end\n",
    "\n",
    "# Se resuelve el modelo\n",
    "optimize!(model)\n",
    "\n",
    "# Se obtiene el valor de las variables\n",
    "import JuMP.value\n",
    "\n",
    "# se guarda la solución\n",
    "println(\"Solución óptima:\")\n",
    "for t in 1:80\n",
    "    println(\"c[$t] = \", value(c[t]))\n",
    "end\n"
   ]
  },
  {
   "cell_type": "markdown",
   "metadata": {},
   "source": [
    "Las variables utilizadas, el consumo va a tener un total de $80$ esto dado que $T=80$. en el caso de los activos $a$ se utilizan 80 variables de activos, contabilizando en activo inicial (el cual es dado para el periodo 1). \n",
    "\n",
    "Para las restricciones, se utiliza una primera para fijar el nivel inicial de activos, a partir de esa, se realizan para los periodos faltantes, es decir, hasta $T=80$.\n",
    "\n",
    "Y con las ecuaciones, haay 80 ecuaciones de activos. "
   ]
  },
  {
   "cell_type": "markdown",
   "metadata": {},
   "source": [
    "3. Program the solution of Euler equation system solving by $c_t$ for $T=80$. How many equations and variables we need?  "
   ]
  },
  {
   "cell_type": "code",
   "execution_count": 54,
   "metadata": {},
   "outputs": [
    {
     "name": "stdout",
     "output_type": "stream",
     "text": [
      "Optimal c values: [108.09439966714906, 108.00789006594253, 107.92144884168547, 107.83507604574147, 107.74877172698612, 107.66253593158244, 107.57636870274874, 107.49027008051794, 107.40424010149492, 107.31827879860433, 107.23238620082854, 107.14656233295143, 107.06080721527559, 106.97512086334946, 106.88950328768549, 106.80395449345384, 106.71847448019865, 106.63306324151888, 106.54772076475318, 106.46244703066547, 106.37724201310441, 106.29210567867179, 106.2070379863766, 106.12203888727737, 106.03710832411622, 105.95224623096257, 105.86745253281782, 105.78272714523531, 105.69806997393043, 105.61348091436155, 105.52895985133323, 105.4445066585614, 105.36012119824672, 105.27580332063495, 105.19155286356809, 105.10736965202244, 105.02325349764389, 104.93920419826728, 104.85522153743062, 104.77130528387795, 104.68745519105029, 104.60367099657125, 104.5199524217182, 104.43629917088461, 104.3527109310348, 104.26918737114204, 104.18572814162276, 104.10233287375488, 104.01900117909396, 103.93573264886125, 103.85252685334194, 103.76938334125802, 103.6863016391329, 103.60328125064999, 103.52032165598767, 103.43742231116714, 103.35458264735232, 103.27180207017403, 103.1890799590178, 103.10641566631082, 103.02380851679256, 102.94125780678095, 102.85876280342139, 102.77632274390956, 102.69393683473879, 102.61160425087581, 102.52932413500116, 102.4470955966584, 102.36491771145997, 102.2827895202105, 102.20071002808749, 102.11867820376537, 102.03669297851381, 101.95475324534932, 101.87285785809577, 101.79100563050082, 101.7091953352072, 101.62742570296724, 101.54569542154643, 101.46400313483925]\n"
     ]
    }
   ],
   "source": [
    "#import Pkg; Pkg.add(\"ForwardDiff\")\n",
    "using NLsolve, ForwardDiff    #se utiliza forwardDiff para poder obtener los valores reales del sistema de ecuaciones \n",
    "\n",
    "# Función de utilidad, asumiendo utilidad CRRA\n",
    "function u(c; γ=2.0)\n",
    "    return c > 0 ? c^(1 - γ) / (1 - γ) : -Inf  # Devuelve -Infinito para consumos no válidos, es decir, aquelos menores o iguales a 0\n",
    "end\n",
    "\n",
    "# Se deriva la función de utilidad respecto a c\n",
    "function u_prime(c; γ=2.0)\n",
    "    return c^(-γ)\n",
    "end\n",
    "\n",
    "# Se expresa el sistema de ecuaciones de Euler\n",
    "function euler(ck, x)\n",
    "    @unpack β, R, ā, y = ck\n",
    "    \n",
    "    T = length(y)\n",
    "    c = x[1:T]\n",
    "    a = zeros(T)\n",
    "    \n",
    "    a[1] = R * ā + y[1] - c[1]\n",
    "    for t in 2:T\n",
    "        a[t] = R * a[t-1] + y[t] - c[t]\n",
    "    end\n",
    "    \n",
    "    eqs = similar(x)\n",
    "    eqs[1] = u_prime(c[1]) - β * R * u_prime(c[2])\n",
    "    for t in 2:T-1\n",
    "        eqs[t] = u_prime(c[t]) - β * R * u_prime(c[t+1])\n",
    "    end\n",
    "    eqs[T] = a[T]  \n",
    "    \n",
    "    return eqs\n",
    "end\n",
    "\n",
    "# Resolemos el sistema de ecuaciones de Euler para T=80\n",
    "ck = params(T=80)\n",
    "initial_guess = fill(150.0, 80)  # Suposición inicial para c1, c2, ..., c80\n",
    "\n",
    "result = nlsolve(x -> ForwardDiff.value.(euler(ck, x)), initial_guess)\n",
    "\n",
    "# Se obtienen los valores óptimos del comsumo ct\n",
    "optimal_c = result.zero\n",
    "\n",
    "# Se guradan los resultados óptimos\n",
    "println(\"Optimal c values: \", optimal_c)\n"
   ]
  },
  {
   "cell_type": "markdown",
   "metadata": {},
   "source": [
    "En este problema, se necesitan tantas ecuaciones de euler como la cantidad de tiempo que estemos estudiando, en este caso, se requieren de $80$ ecuaciones de euler para poder resolver el problema. Por el lado de las variables, se necesita el consumo para cada uno de los períodos, por lo tanto se requieren de $80$. Para los activos, tambien se requieren de $80$, sin embargo, el activo del periodo siguiente al ultimo (que se necesita para el sistema de ecuaciones de euler) debe ser $0$ por la condición terminal. "
   ]
  },
  {
   "cell_type": "markdown",
   "metadata": {},
   "source": [
    "4. Program the solution of Euler equation system solving by $a_t$ for $T=80$. How many equations and variables we need?"
   ]
  },
  {
   "cell_type": "code",
   "execution_count": 61,
   "metadata": {},
   "outputs": [
    {
     "name": "stdout",
     "output_type": "stream",
     "text": [
      "Consumos óptimos para T=80:\n",
      "c[1] = 107.91466755437648\n",
      "c[2] = 107.8283012599855\n",
      "c[3] = 107.74200408628948\n",
      "c[4] = 107.65577597796957\n",
      "c[5] = 107.56961687975141\n",
      "c[6] = 107.48352673640491\n",
      "c[7] = 107.39750549274396\n",
      "c[8] = 107.3115530936268\n",
      "c[9] = 107.2256694839557\n",
      "c[10] = 107.13985460867715\n",
      "c[11] = 107.05410841278152\n",
      "c[12] = 106.96843084130339\n",
      "c[13] = 106.88282183932122\n",
      "c[14] = 106.79728135195745\n",
      "c[15] = 106.71180932437844\n",
      "c[16] = 106.62640570179445\n",
      "c[17] = 106.54107042945954\n",
      "c[18] = 106.4558034526717\n",
      "c[19] = 106.37060471677249\n",
      "c[20] = 106.28547416714747\n",
      "c[21] = 106.20041174922568\n",
      "c[22] = 106.11541740848004\n",
      "c[23] = 106.03049109042692\n",
      "c[24] = 105.94563274062642\n",
      "c[25] = 105.8608423046822\n",
      "c[26] = 105.77611972824135\n",
      "c[27] = 105.69146495699461\n",
      "c[28] = 105.60687793667611\n",
      "c[29] = 105.52235861306333\n",
      "c[30] = 105.43790693197731\n",
      "c[31] = 105.35352283928226\n",
      "c[32] = 105.26920628088597\n",
      "c[33] = 105.18495720273928\n",
      "c[34] = 105.10077555083642\n",
      "c[35] = 105.01666127121476\n",
      "c[36] = 104.93261430995491\n",
      "c[37] = 104.84863461318064\n",
      "c[38] = 104.76472212705885\n",
      "c[39] = 104.68087679779943\n",
      "c[40] = 104.59709857165545\n",
      "c[41] = 104.51338739492287\n",
      "c[42] = 104.42974321394077\n",
      "c[43] = 104.346165975091\n",
      "c[44] = 104.26265562479846\n",
      "c[45] = 104.17921210953091\n",
      "c[46] = 104.09583537579891\n",
      "c[47] = 104.01252537015587\n",
      "c[48] = 103.92928203919791\n",
      "c[49] = 103.84610532956394\n",
      "c[50] = 103.76299518793559\n",
      "c[51] = 103.67995156103713\n",
      "c[52] = 103.59697439563541\n",
      "c[53] = 103.51406363854005\n",
      "c[54] = 103.43121923660311\n",
      "c[55] = 103.34844113671919\n",
      "c[56] = 103.26572928582544\n",
      "c[57] = 103.18308363090141\n",
      "c[58] = 103.10050411896913\n",
      "c[59] = 103.017990697093\n",
      "c[60] = 102.93554331237989\n",
      "c[61] = 102.85316191197883\n",
      "c[62] = 102.77084644308127\n",
      "c[63] = 102.68859685292078\n",
      "c[64] = 102.60641308877342\n",
      "c[65] = 102.52429509795714\n",
      "c[66] = 102.44224282783227\n",
      "c[67] = 102.36025622580114\n",
      "c[68] = 102.27833523930823\n",
      "c[69] = 102.19647981584008\n",
      "c[70] = 102.11468990292519\n",
      "c[71] = 102.03296544813419\n",
      "c[72] = 101.95130639907944\n",
      "c[73] = 101.86971270341543\n",
      "c[74] = 101.78818430883848\n",
      "c[75] = 101.70672116308666\n",
      "c[76] = 101.62532321394004\n",
      "c[77] = 101.54399040922029\n",
      "c[78] = 101.462722696791\n",
      "c[79] = 101.3815200245678\n",
      "c[80] = 101.30037995343734\n"
     ]
    }
   ],
   "source": [
    "using NLsolve, Parameters\n",
    "\n",
    "function params(; β = 0.96,\n",
    "                R = 1.04,\n",
    "                y = fill(100.0, 80),\n",
    "                ā = 150.0)\n",
    "    return (β=β, R=R, ā=ā, y=y)\n",
    "end\n",
    "\n",
    "# Se define la función de utilidad \n",
    "function u(c; γ=2.0)\n",
    "    return c > 0 ? c^(1 - γ) / (1 - γ) : -Inf  # Devuelve -Infinito para consumos no válidos\n",
    "end\n",
    "\n",
    "# Se Deriva de la función de utilidad\n",
    "function u_prime(c; γ=2.0)\n",
    "    return c^(-γ)\n",
    "end\n",
    "\n",
    "# Sistema de ecuaciones de Euler para T=80\n",
    "function euler(ck, x)\n",
    "    @unpack β, R, ā, y = ck\n",
    "    n = length(y)\n",
    "    equations = []\n",
    "    for t in 1:n-1\n",
    "        push!(equations, u_prime(R * (t == 1 ? ā : x[t-1]) + y[t] - x[t]) - β * R * u_prime(R * x[t] + y[t+1] - x[t+1]))\n",
    "    end\n",
    "    push!(equations, u_prime(R * x[n-1] + y[n] - x[n]) - β * R * u_prime(R * x[n]))\n",
    "    return equations\n",
    "end\n",
    "\n",
    "# Se resuelve el sistema de ecuaciones\n",
    "ck = params()\n",
    "initial_guess = fill(150.0, 80)  # Supongamos un valor inicial para a[t] = 150 para cada periodo\n",
    "result = nlsolve(x -> euler(p, x), initial_guess, autodiff=:forward)  # Utimizamos la diferenciación automática\n",
    "\n",
    "# Se obtienen los valores óptimos de consumo c[t]\n",
    "consumos_optimos = []\n",
    "for t in 1:length(result.zero)\n",
    "    push!(consumos_optimos, p.R * (t == 1 ? p.ā : result.zero[t-1]) + p.y[t] - result.zero[t])\n",
    "end\n",
    "\n",
    "# Se guardan los resultados obtenidos\n",
    "println(\"Consumos óptimos para T=80:\")\n",
    "for t in 1:length(consumos_optimos)\n",
    "    println(\"c[$t] = \", consumos_optimos[t])\n",
    "end\n"
   ]
  },
  {
   "cell_type": "markdown",
   "metadata": {},
   "source": [
    "Se sigue manteniendo el $T=80$ de las preguntas anteriores, por lo que, igual a la pregunta 3, se van a tener 80 ecuaciones, una por cada período, y las variables va a tener la misma cantidad, una para cada período de estudio. "
   ]
  },
  {
   "cell_type": "markdown",
   "metadata": {},
   "source": [
    "5. Program the solution using bisection method (we review using Solow) for $T=80$. Explain the implementation. "
   ]
  },
  {
   "cell_type": "code",
   "execution_count": 18,
   "metadata": {},
   "outputs": [],
   "source": [
    "using Roots\n",
    "using DataFrames\n",
    "using Printf\n",
    "using Plots"
   ]
  },
  {
   "cell_type": "code",
   "execution_count": 19,
   "metadata": {},
   "outputs": [
    {
     "data": {
      "text/plain": [
       "shooting_c (generic function with 1 method)"
      ]
     },
     "execution_count": 19,
     "metadata": {},
     "output_type": "execute_result"
    }
   ],
   "source": [
    "# Función de parámetros para T=80\n",
    "function params(; T::Int=80, \n",
    "    β=0.96,           # Factor de descuento\n",
    "    R=1.04,           # Tasa de retorno de los activos R = (1 + r), con r = 0.04\n",
    "    ā=150)            # activos iniciales\n",
    "    y = fill(100, T)  # Generamos un vector de ingresos con T=80\n",
    "    return (β=β, R=R, ā=ā, y=y, T=T)\n",
    "end\n",
    "\n",
    "# Función para resolver el sistema de ecuaciones shooting para ct y at\n",
    "function shooting_c(ck, c0, a0)\n",
    "    @unpack β, R, ā, y, T = ck\n",
    "\n",
    "    at = NaN * ones(T + 1)\n",
    "    ct = NaN * ones(T + 1)\n",
    "    at[1] = a0\n",
    "    ct[1] = c0\n",
    "\n",
    "    for t = 1:T\n",
    "        y_deprec = y[t] + R * at[t]\n",
    "        if ct[t] >= y_deprec\n",
    "            break\n",
    "        end\n",
    "        ct[t+1] = ct[t] * (β * R)^(1 / 2)  # equation (1)\n",
    "        at[t+1] = y[t] + R * at[t] - ct[t]  # equation (2)\n",
    "    end\n",
    "    ct, at\n",
    "end\n",
    "\n"
   ]
  },
  {
   "cell_type": "code",
   "execution_count": 20,
   "metadata": {},
   "outputs": [
    {
     "data": {
      "text/plain": [
       "bisection_c (generic function with 1 method)"
      ]
     },
     "execution_count": 20,
     "metadata": {},
     "output_type": "execute_result"
    }
   ],
   "source": [
    "# Función de parámetros para T=80\n",
    "function params(; T::Int=80, \n",
    "    β=0.96,           # Factor de descuento\n",
    "    R=1.04,           # Tasa de retorno de los activos R = (1 + r), con r = 0.04\n",
    "    ā=150)            # activos iniciales\n",
    "    y = fill(100, T)  # Generamos un vector de ingresos con T=80\n",
    "    return (β=β, R=R, ā=ā, y=y, T=T)\n",
    "end\n",
    "\n",
    "function bisection_c(ck, c0, a0; tol=1e-4, max_iter=500, a_ter=0, verbose=true)\n",
    "    @unpack β, R, ā, y, T = ck\n",
    "\n",
    "    # Limites iniciales y valor para c0\n",
    "    c0_upper = y\n",
    "    c0_lower = 0\n",
    "    c0_vec = []\n",
    "\n",
    "    i = 0\n",
    "    while true\n",
    "        ct, at = shooting_c(ck, c0, a0)\n",
    "\n",
    "        # Error de calculo para el período terminal\n",
    "        error = at[T] - a_ter\n",
    "\n",
    "        # Se verifica si la condición terminal se satisface\n",
    "        if abs(error) < tol\n",
    "            if verbose\n",
    "                println(\"Converged successfully on iteration \", i+1)\n",
    "            end\n",
    "            return ct, at, c0_vec\n",
    "        end\n",
    "\n",
    "        i += 1\n",
    "        if i == max_iter\n",
    "            if verbose\n",
    "                println(\"Convergence failed.\")\n",
    "            end\n",
    "            return ct, at, c0_vec\n",
    "        end\n",
    "\n",
    "        # Se actualizan los limites y el valor de c0 para las siguientes iteraciones \n",
    "        if error > 0\n",
    "            c0_lower = c0\n",
    "        else\n",
    "            c0_upper = c0\n",
    "        end\n",
    "\n",
    "        c0 = (c0_lower + c0_upper) / 2\n",
    "        push!(c0_vec, c0)\n",
    "    end\n",
    "end\n",
    "\n"
   ]
  },
  {
   "cell_type": "markdown",
   "metadata": {},
   "source": [
    "Con el metodo de bisection estamos buscando un valor de c, que satisface en valor terminarl de los activos, es decir cuando $a=0$, es beneficioso (mientras este bien definido el metodo) por que permite llegar a la convergencia, es decir el nivel de consumo en el periodo final, y es preferida a shooting, ya que shooting lo que hace es disparar ciertos valores que se pueden acercar, más no da un valor preciso para poder resolver el modelo. "
   ]
  }
 ],
 "metadata": {
  "kernelspec": {
   "display_name": "Julia 1.10.2",
   "language": "julia",
   "name": "julia-1.10"
  },
  "language_info": {
   "file_extension": ".jl",
   "mimetype": "application/julia",
   "name": "julia",
   "version": "1.10.2"
  }
 },
 "nbformat": 4,
 "nbformat_minor": 2
}
